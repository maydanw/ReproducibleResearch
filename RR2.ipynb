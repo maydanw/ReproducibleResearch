{
 "metadata": {
  "name": "",
  "signature": "sha256:53a8c73ae131176288b7800a119c2962e6b0075f177527fa1eb48d33863dd934"
 },
 "nbformat": 3,
 "nbformat_minor": 0,
 "worksheets": [
  {
   "cells": [
    {
     "cell_type": "markdown",
     "metadata": {
      "slideshow": {
       "slide_type": "slide"
      }
     },
     "source": [
      "#Reproducible Research\n",
      "---"
     ]
    },
    {
     "cell_type": "markdown",
     "metadata": {},
     "source": [
      "# *Everything R can do I(Python) can do better*\n",
      "## Meetup Agenda\n",
      "In the session we will pass through various methods to improve our research reproducibility and try to show an easy to copy and adjust examples of these methods.  \n",
      "I will also try to advocate (lightly) the usage of IPython and (Python on general) as a reproducible research tool environment by demonstrating some small fraction of its power.  \n",
      "The notebook will be available in GitHub under the following address: [https://github.com/maydanw/ReproducibleResearch](https://github.com/maydanw/ReproducibleResearch)\n",
      "\n",
      "\n",
      "**But what does reproducible research mean? ** \n",
      ">*\"The term reproducible research refers to the idea that the ultimate product of academic research is the paper along with the full computational environment used to produce the results in the paper such as the code, data, etc. that can be used to reproduce the results and create new work based on the research. \"* [Wikipedia](http://en.wikipedia.org/wiki/Reproducibility)"
     ]
    },
    {
     "cell_type": "markdown",
     "metadata": {},
     "source": [
      "<a id=usingipython></a>"
     ]
    },
    {
     "cell_type": "markdown",
     "metadata": {},
     "source": [
      "## Getting Started"
     ]
    },
    {
     "cell_type": "markdown",
     "metadata": {},
     "source": [
      "* Install [Anaconda](https://store.continuum.io/cshop/anaconda/) - Completely free enterprise-ready Python distribution for large-scale data processing, predictive analytics, and scientific computing. Comes with **Python**, NumPy, SciPy, Pandas, **IPython**, Matplotlib, Numba, Blaze, Bokeh, and other great Python data analysis tools.\n",
      "* Run *\"conda create -n RepResSession python=2.7 anaconda --yes\"* (will take time as it install everything)\n",
      "* Verify the RepResSession enviroment was created by *\"conda info -e\"*\n",
      "* Activate enviroment by *\"activate RepResSession\"* (try *\"source activate RepResSession\"* in case of emergency)\n",
      "* Activate IPython by *\"C:\\Anaconda\\Scripts\\ipython.exe notebook --pylab inline\"* (on windows)\n",
      "* Surf to 127.0.0.1:8888"
     ]
    },
    {
     "cell_type": "markdown",
     "metadata": {},
     "source": [
      "## Using IPython to show (conveniently) not only the results but the code as well"
     ]
    },
    {
     "cell_type": "markdown",
     "metadata": {},
     "source": [
      "As you can see below IPython creates a notebook that can integrate textual data, code and results like figures (and much more)."
     ]
    },
    {
     "cell_type": "code",
     "collapsed": false,
     "input": [
      "import seaborn as sns\n",
      "x = range(36)\n",
      "y = sin(x)\n",
      "plt.plot(x,y)"
     ],
     "language": "python",
     "metadata": {},
     "outputs": []
    },
    {
     "cell_type": "markdown",
     "metadata": {},
     "source": [
      "<a id=externalcode></a>"
     ]
    },
    {
     "cell_type": "markdown",
     "metadata": {},
     "source": [
      "Python have a huge eco-system which offers many extentions.  \n",
      "When used with [Pandas (Python Data Analysis Library)](http://pandas.pydata.org/) it offers a great tool for data analysis."
     ]
    },
    {
     "cell_type": "markdown",
     "metadata": {},
     "source": [
      "## If possible, when reusing external code please show it and it's tests"
     ]
    },
    {
     "cell_type": "markdown",
     "metadata": {},
     "source": [
      "The fact that you are working inside a \"notebook\" does not take the advantages of the Python as a general purpose programming language."
     ]
    },
    {
     "cell_type": "code",
     "collapsed": false,
     "input": [
      "!cat pyfile.py\n",
      "!nosetests -vds pyfile.py"
     ],
     "language": "python",
     "metadata": {},
     "outputs": [
      {
       "output_type": "stream",
       "stream": "stdout",
       "text": [
        "import sys\n",
        "import nose\n",
        "\n",
        "def printme(s):\n",
        "    s2 = s + '!'\n",
        "    return s2\n",
        "\n",
        "def test_printme():\n",
        "    assert printme('') == '!'\n",
        "\n",
        "def test_printme2():\n",
        "    assert printme('123') == '23!'\n",
        "\n",
        "if __name__ == '__main__':\n",
        "    # Watch out! Actual code may be coming down ...\n",
        "    printme('')\n"
       ]
      },
      {
       "output_type": "stream",
       "stream": "stderr",
       "text": [
        "pyfile.test_printme ... ok\n",
        "pyfile.test_printme2 ... FAIL\n",
        "\n",
        "======================================================================\n",
        "FAIL: pyfile.test_printme2\n",
        "----------------------------------------------------------------------\n",
        "Traceback (most recent call last):\n",
        "  File \"C:\\Anaconda\\lib\\site-packages\\nose\\case.py\", line 197, in runTest\n",
        "    self.test(*self.arg)\n",
        "  File \"C:\\Users\\wienreb\\IPythonLib\\notebooks\\ReproducibleResearch\\pyfile.py\", line 12, in test_printme2\n",
        "    assert printme('123') == '23!'\n",
        "AssertionError: \n",
        ">>  assert printme('123') == '23!'\n",
        "    \n",
        "\n",
        "----------------------------------------------------------------------\n",
        "Ran 2 tests in 0.016s\n",
        "\n",
        "FAILED (failures=1)\n"
       ]
      }
     ],
     "prompt_number": 2
    },
    {
     "cell_type": "markdown",
     "metadata": {},
     "source": [
      "**Failed!!!** Let's fix it and run the cell again.  \n",
      "Done?  \n",
      "Good now let's load the code into the notebook."
     ]
    },
    {
     "cell_type": "code",
     "collapsed": false,
     "input": [
      "%run pyfile.py"
     ],
     "language": "python",
     "metadata": {},
     "outputs": []
    },
    {
     "cell_type": "code",
     "collapsed": false,
     "input": [
      "printme('Hey')"
     ],
     "language": "python",
     "metadata": {},
     "outputs": []
    },
    {
     "cell_type": "markdown",
     "metadata": {},
     "source": [
      "<a id=imports></a>"
     ]
    },
    {
     "cell_type": "markdown",
     "metadata": {},
     "source": [
      "## When importing a module reports it's version"
     ]
    },
    {
     "cell_type": "code",
     "collapsed": false,
     "input": [
      "import sys\n",
      "print (\"Python version: {}\".format(sys.version))\n",
      "\n",
      "import numpy as np\n",
      "import pandas as pd\n",
      "import urllib\n",
      "import datetime"
     ],
     "language": "python",
     "metadata": {},
     "outputs": []
    },
    {
     "cell_type": "markdown",
     "metadata": {},
     "source": [
      "One option is just printing the imported modules versions.  "
     ]
    },
    {
     "cell_type": "code",
     "collapsed": false,
     "input": [
      "print'numpy version:', np.__version__\n",
      "print'pandas version:', pd.__version__\n",
      "print'urllib version:', urllib.__version__\n",
      "print'seaborn version:', sns.__version__"
     ],
     "language": "python",
     "metadata": {},
     "outputs": []
    },
    {
     "cell_type": "markdown",
     "metadata": {},
     "source": [
      "Another option is using sys.modules.keys()"
     ]
    },
    {
     "cell_type": "code",
     "collapsed": false,
     "input": [
      "for m in list(sys.modules.keys()):\n",
      "    if hasattr(sys.modules[m], '__version__') and ('$Revision' not in sys.modules[m].__version__):\n",
      "        print \"{}: {}\".format(sys.modules[m].__name__,sys.modules[m].__version__)"
     ],
     "language": "python",
     "metadata": {},
     "outputs": []
    },
    {
     "cell_type": "markdown",
     "metadata": {},
     "source": [
      "<a id=randomseed></a>"
     ]
    },
    {
     "cell_type": "markdown",
     "metadata": {},
     "source": [
      "## Setting random seeds"
     ]
    },
    {
     "cell_type": "markdown",
     "metadata": {},
     "source": [
      "Setting random seed"
     ]
    },
    {
     "cell_type": "code",
     "collapsed": false,
     "input": [
      "import random\n",
      "random.seed(1234)\n",
      "random.randint(0,4)"
     ],
     "language": "python",
     "metadata": {},
     "outputs": []
    },
    {
     "cell_type": "markdown",
     "metadata": {},
     "source": [
      "Setting Numpy random seed"
     ]
    },
    {
     "cell_type": "code",
     "collapsed": false,
     "input": [
      "np.random.seed(seed=1234)\n",
      "np.random.randn(3)"
     ],
     "language": "python",
     "metadata": {},
     "outputs": []
    },
    {
     "cell_type": "markdown",
     "metadata": {},
     "source": [
      "<a id=datalinks></a>"
     ]
    },
    {
     "cell_type": "markdown",
     "metadata": {},
     "source": [
      "## Data set are available by link (and not only on local computer)"
     ]
    },
    {
     "cell_type": "code",
     "collapsed": false,
     "input": [
      "page = urllib.urlopen(\"http://econpy.pythonanywhere.com/ex/NFL_1979.csv\")\n",
      "df = pd.read_csv(page, parse_dates=['Date'], index_col=['Date'])\n",
      "df.describe()"
     ],
     "language": "python",
     "metadata": {},
     "outputs": []
    },
    {
     "cell_type": "code",
     "collapsed": false,
     "input": [
      "df.head()"
     ],
     "language": "python",
     "metadata": {},
     "outputs": []
    },
    {
     "cell_type": "markdown",
     "metadata": {},
     "source": [
      "<a id=venv></a>"
     ]
    },
    {
     "cell_type": "markdown",
     "metadata": {},
     "source": [
      "### As we have a dataframe loaded this is an excuse to make a brief review on Pandas   "
     ]
    },
    {
     "cell_type": "code",
     "collapsed": false,
     "input": [
      "df.ix['03 September 1979':'09 September 1979']"
     ],
     "language": "python",
     "metadata": {},
     "outputs": []
    },
    {
     "cell_type": "code",
     "collapsed": false,
     "input": [
      "days=pd.datetools.DAYS\n",
      "df[\"dayofweek\"]=pd.Categorical([days[d] for d in df.index.dayofweek], categories=days, ordered=False)\n",
      "df.head()"
     ],
     "language": "python",
     "metadata": {},
     "outputs": []
    },
    {
     "cell_type": "code",
     "collapsed": false,
     "input": [
      "print \"Type of colum:\", df[\"dayofweek\"].dtype\n",
      "print \"Categories of colum:\", df[\"dayofweek\"].cat.categories\n",
      "pd.value_counts(df[\"dayofweek\"])"
     ],
     "language": "python",
     "metadata": {},
     "outputs": []
    },
    {
     "cell_type": "code",
     "collapsed": false,
     "input": [
      "df[df[\"dayofweek\"] != 'SUN'].head()"
     ],
     "language": "python",
     "metadata": {},
     "outputs": []
    },
    {
     "cell_type": "code",
     "collapsed": false,
     "input": [
      "grp=df.groupby(\"dayofweek\")\n",
      "grp[\"Home Score\"].mean().plot(kind='bar', title=\"Home Score mean\")"
     ],
     "language": "python",
     "metadata": {},
     "outputs": []
    },
    {
     "cell_type": "markdown",
     "metadata": {},
     "source": [
      "## Create a virtual environment with a shared requirements file"
     ]
    },
    {
     "cell_type": "markdown",
     "metadata": {},
     "source": [
      "Use \"conda create -n envname --yes -file requirements.txt\" to create the new enviroment. \n",
      "The requirements.txt file should contain packages names and versions.\n",
      "\n",
      "Example:\n",
      "The following are all valid match specifications for numpy-1.8.1-py27_0:\n",
      "  \n",
      "> numpy  \n",
      "> numpy 1.8\\*  \n",
      "> numpy 1.8.1  \n",
      "> numpy >=1.8  \n",
      "> numpy ==1.8.1   \n",
      "> numpy >=1.8,<2  \n",
      "> numpy >=1.8,<2|1.9  \n",
      "> numpy 1.8.1 py27_0\n",
      " "
     ]
    },
    {
     "cell_type": "code",
     "collapsed": false,
     "input": [
      "k=!conda list -e\n",
      "k[10:20]"
     ],
     "language": "python",
     "metadata": {},
     "outputs": []
    },
    {
     "cell_type": "markdown",
     "metadata": {},
     "source": [
      "<a id=shareit></a>"
     ]
    },
    {
     "cell_type": "markdown",
     "metadata": {},
     "source": [
      "## Share your notebooks"
     ]
    },
    {
     "cell_type": "markdown",
     "metadata": {},
     "source": [
      "* You can share it with [nbviewer](http://nbviewer.ipython.org) by uploading it to github or  install nbviewer in your organization and publish the notebook to a more private place.\n",
      "* Save an html file (File -> Downloads as -> html) and share. "
     ]
    },
    {
     "cell_type": "markdown",
     "metadata": {},
     "source": [
      "<a id=ipythondemo></a>"
     ]
    },
    {
     "cell_type": "markdown",
     "metadata": {},
     "source": [
      "# To Summarize  \n",
      "----  \n",
      "  \n",
      "So what can we do to improve our reproducibility when using Python?\n",
      "* [Using IPython to show (conveniently) not only the results but the code as well.](#usingipython)\n",
      "* [If possible, when reusing external code please show it and it's tests.](#externalcode) \n",
      "* [When importing a module reports it's version.](#imports)\n",
      "* [Setting random seeds.](#randomseed)\n",
      "* [Data set are available by link (and not only on local computer).](#datalinks)\n",
      "* [Create a virtual environment with a shared requirements file.](#venv)\n",
      "* [Share your notebooks](#shareit)\n",
      "* More ideas?  \n",
      "* ...  \n",
      "  \n",
      "[**What else can IPython do?**](#ipythondemo)"
     ]
    },
    {
     "cell_type": "markdown",
     "metadata": {},
     "source": [
      "## A Short Demo of IPython"
     ]
    },
    {
     "cell_type": "markdown",
     "metadata": {},
     "source": [
      "### Markdown cells"
     ]
    },
    {
     "cell_type": "markdown",
     "metadata": {},
     "source": [
      "Including text, images, [Latex equations](http://nbviewer.ipython.org/github/ipython/ipython/blob/master/examples/Notebook/Typesetting%20Equations.ipynb) and ability to embed HTML as below:\n",
      "<img src='http://www.securelink.nl/wp-content/uploads/2013/08/F5-Networks_500.jpg' />   \n",
      "$$\\frac{x}{y}=a\\ complex\\ latex\\ equation$$"
     ]
    },
    {
     "cell_type": "markdown",
     "metadata": {},
     "source": [
      "### Code cells"
     ]
    },
    {
     "cell_type": "markdown",
     "metadata": {},
     "source": [
      "Ability to run Python code and display the results.   "
     ]
    },
    {
     "cell_type": "code",
     "collapsed": false,
     "input": [
      "df[\"Visitor Score\"].hist(bins=10)"
     ],
     "language": "python",
     "metadata": {},
     "outputs": []
    },
    {
     "cell_type": "code",
     "collapsed": false,
     "input": [
      "df.groupby('Home Team')['Home Score'].sum().plot(kind='bar')"
     ],
     "language": "python",
     "metadata": {},
     "outputs": []
    },
    {
     "cell_type": "code",
     "collapsed": false,
     "input": [
      "#pd.read_csv()\n",
      "pd.read_json??\n",
      "#pd."
     ],
     "language": "python",
     "metadata": {},
     "outputs": []
    },
    {
     "cell_type": "markdown",
     "metadata": {},
     "source": [
      "### Interactive widgets"
     ]
    },
    {
     "cell_type": "code",
     "collapsed": false,
     "input": [
      "from sympy import Symbol, Eq, init_printing, solve, lambdify\n",
      "from sympy.plotting import plot as symplot\n",
      "init_printing(use_latex='mathjax')\n",
      "from IPython.html.widgets import interact\n",
      "\n",
      "x = Symbol('x')"
     ],
     "language": "python",
     "metadata": {},
     "outputs": []
    },
    {
     "cell_type": "code",
     "collapsed": false,
     "input": [
      "@interact(x=(0,100), y=(0,100))\n",
      "def div_it(x,y):\n",
      "    print x/float(y)"
     ],
     "language": "python",
     "metadata": {},
     "outputs": []
    },
    {
     "cell_type": "code",
     "collapsed": false,
     "input": [
      "def my_eq(a,b,c):\n",
      "    eq = Eq(a*x**2+b*x+c)\n",
      "    display(eq)\n",
      "    display(solve(eq,x))\n",
      "\n",
      "interact(my_eq,a=(-10,10), b=(-5,5), c=(-100,100))"
     ],
     "language": "python",
     "metadata": {},
     "outputs": []
    },
    {
     "cell_type": "code",
     "collapsed": false,
     "input": [
      "@interact(mean=(-100,100), std=(0,100), n=(1,1000))\n",
      "def plots(mean, std, n):\n",
      "    samples = np.random.normal(mean, std, n)\n",
      "    plt.hist(samples)"
     ],
     "language": "python",
     "metadata": {},
     "outputs": []
    },
    {
     "cell_type": "markdown",
     "metadata": {},
     "source": [
      "### Using graphviz"
     ]
    },
    {
     "cell_type": "code",
     "collapsed": false,
     "input": [
      "import networkx as nx\n",
      "from IPython.display import Image\n",
      "\n",
      "def generate_graph_vis(G):\n",
      "    pos=nx.graphviz_layout(G,prog=\"dot\")\n",
      "    A = nx.to_agraph(G)\n",
      "    A.layout(prog='dot')\n",
      "    png=A.draw(format='png',)\n",
      "    return Image(png)\n",
      "\n",
      "g = nx.DiGraph()\n",
      "g.add_edge('a','b',weight=1.5, label=1.5) \n",
      "g.add_edge('b','c',weight=1.0, label=1.0) \n",
      "g.add_edge('a','c',weight=10, label=10) \n",
      "g.add_edge('c','d',weight=2.2, label=2.2)\n",
      "generate_graph_vis(g)"
     ],
     "language": "python",
     "metadata": {},
     "outputs": []
    },
    {
     "cell_type": "markdown",
     "metadata": {},
     "source": [
      "### Extending IPython"
     ]
    },
    {
     "cell_type": "raw",
     "metadata": {},
     "source": [
      "%%javascript\n",
      "IPython.load_extensions('calico-spell-check');"
     ]
    },
    {
     "cell_type": "markdown",
     "metadata": {},
     "source": [
      "thiss line hav spelling mistakes"
     ]
    },
    {
     "cell_type": "markdown",
     "metadata": {},
     "source": [
      "### Interesting Examples  \n",
      "\n",
      "* [IPython's Rich Display System](http://nbviewer.ipython.org/github/ipython/ipython/blob/1.x/examples/notebooks/Part%205%20-%20Rich%20Display%20System.ipynb)\n",
      "* [Version control for fun and profit: the tool you didn't know you needed. From personal workflows to open collaboration](http://nbviewer.ipython.org/github/fperez/reprosw/blob/master/Version%20Control.ipynb)\n",
      "* [A gallery with many interesting notebooks](https://github.com/ipython/ipython/wiki/A-gallery-of-interesting-IPython-Notebooks)\n",
      "* [SymPy: Open Source Symbolic Mathematics](http://nbviewer.ipython.org/github/ipython/ipython/blob/1.x/examples/notebooks/SymPy%20Examples.ipynb)\n",
      "* [XKCD plots](http://nbviewer.ipython.org/url/jakevdp.github.com/downloads/notebooks/XKCD_plots.ipynb)\n",
      "* [More examples](http://nbviewer.ipython.org/)"
     ]
    },
    {
     "cell_type": "code",
     "collapsed": false,
     "input": [],
     "language": "python",
     "metadata": {},
     "outputs": []
    }
   ],
   "metadata": {}
  }
 ]
}